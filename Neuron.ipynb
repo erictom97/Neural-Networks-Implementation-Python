{
 "cells": [
  {
   "cell_type": "code",
   "execution_count": 2,
   "metadata": {},
   "outputs": [
    {
     "name": "stdout",
     "output_type": "stream",
     "text": [
      "[15, 33, 51]\n"
     ]
    }
   ],
   "source": [
    "def neuron(inputs, weights, bias):\n",
    "    layer_output = []\n",
    "    for neuron_weights, neuron_bias in zip(weights, bias):\n",
    "        neuron_output = 0\n",
    "        for input, weight in zip(inputs, neuron_weights):\n",
    "            neuron_output += input * weight\n",
    "        neuron_output += neuron_bias\n",
    "        layer_output.append(neuron_output)\n",
    "\n",
    "    return layer_output\n",
    "\n",
    "inputs = [1, 2, 3]\n",
    "weights = [[1, 2, 3], [4, 5, 6], [7, 8, 9]]\n",
    "bias = [1, 1, 1]\n",
    "\n",
    "print(neuron(inputs, weights, bias))"
   ]
  },
  {
   "cell_type": "code",
   "execution_count": null,
   "metadata": {},
   "outputs": [],
   "source": []
  }
 ],
 "metadata": {
  "kernelspec": {
   "display_name": "pytorch",
   "language": "python",
   "name": "python3"
  },
  "language_info": {
   "codemirror_mode": {
    "name": "ipython",
    "version": 3
   },
   "file_extension": ".py",
   "mimetype": "text/x-python",
   "name": "python",
   "nbconvert_exporter": "python",
   "pygments_lexer": "ipython3",
   "version": "3.9.16"
  }
 },
 "nbformat": 4,
 "nbformat_minor": 2
}
