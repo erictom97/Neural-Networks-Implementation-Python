{
 "cells": [
  {
   "cell_type": "markdown",
   "metadata": {},
   "source": [
    "# building a layer"
   ]
  },
  {
   "cell_type": "code",
   "execution_count": 1,
   "metadata": {},
   "outputs": [],
   "source": [
    "def linear_layer(inputs, weights, bias):\n",
    "    layer_output = []\n",
    "    for neuron_weights, neuron_bias in zip(weights, bias):\n",
    "        neuron_output = 0\n",
    "        for input, weight in zip(inputs, neuron_weights):\n",
    "            neuron_output += input * weight\n",
    "        neuron_output += neuron_bias\n",
    "        layer_output.append(neuron_output)\n",
    "\n",
    "    return layer_output\n",
    "\n"
   ]
  },
  {
   "cell_type": "markdown",
   "metadata": {},
   "source": [
    " The neuron layer consists of 3 neurons, each receiving 3 inputs. \n",
    "\n",
    "The inputs to the layer are [1, 2, 3]. The weights connecting the inputs to the neurons are as follows:\n",
    "- Neuron 1: [1, 2, 3]\n",
    "- Neuron 2: [4, 5, 6]\n",
    "- Neuron 3: [7, 8, 9]\n",
    "\n",
    "Each neuron also has a bias value of 1.\n",
    "\n",
    "To compute the output of each neuron, the inputs are multiplied by their corresponding weights, and the bias is added. The outputs of the neurons are as follows:\n",
    "- Neuron 1 output: [output value]\n",
    "- Neuron 2 output: [output value]\n",
    "- Neuron 3 output: [output value]\n"
   ]
  },
  {
   "cell_type": "code",
   "execution_count": 2,
   "metadata": {},
   "outputs": [
    {
     "name": "stdout",
     "output_type": "stream",
     "text": [
      "[15, 33, 51]\n"
     ]
    }
   ],
   "source": [
    "inputs = [1, 2, 3]\n",
    "weights = [[1, 2, 3], [4, 5, 6], [7, 8, 9]]\n",
    "bias = [1, 1, 1]\n",
    "\n",
    "print(linear_layer(inputs, weights, bias))"
   ]
  },
  {
   "cell_type": "code",
   "execution_count": 4,
   "metadata": {},
   "outputs": [
    {
     "name": "stdout",
     "output_type": "stream",
     "text": [
      "[15 33 51]\n"
     ]
    }
   ],
   "source": [
    "import numpy as np\n",
    "\n",
    "def linear_layer(inputs, weights, bias):\n",
    "    return np.dot(weights, inputs) + bias #weights should be the first argument because we want the output to be the same shape as the weights\n",
    "\n",
    "inputs = np.array([1, 2, 3])\n",
    "weights = np.array([[1, 2, 3], [4, 5, 6], [7, 8, 9]])\n",
    "bias = np.array([1, 1, 1])\n",
    "\n",
    "print(linear_layer(inputs, weights, bias))"
   ]
  },
  {
   "cell_type": "code",
   "execution_count": 5,
   "metadata": {},
   "outputs": [
    {
     "ename": "ValueError",
     "evalue": "shapes (3,4) and (3,4) not aligned: 4 (dim 1) != 3 (dim 0)",
     "output_type": "error",
     "traceback": [
      "\u001b[0;31m---------------------------------------------------------------------------\u001b[0m",
      "\u001b[0;31mValueError\u001b[0m                                Traceback (most recent call last)",
      "Cell \u001b[0;32mIn[5], line 5\u001b[0m\n\u001b[1;32m      2\u001b[0m weights \u001b[38;5;241m=\u001b[39m [[\u001b[38;5;241m1\u001b[39m,\u001b[38;5;241m2\u001b[39m,\u001b[38;5;241m3\u001b[39m,\u001b[38;5;241m4\u001b[39m], [\u001b[38;5;241m5\u001b[39m,\u001b[38;5;241m6\u001b[39m,\u001b[38;5;241m7\u001b[39m,\u001b[38;5;241m8\u001b[39m], [\u001b[38;5;241m9\u001b[39m,\u001b[38;5;241m10\u001b[39m,\u001b[38;5;241m11\u001b[39m,\u001b[38;5;241m12\u001b[39m]]\n\u001b[1;32m      3\u001b[0m bias \u001b[38;5;241m=\u001b[39m [\u001b[38;5;241m1\u001b[39m, \u001b[38;5;241m1\u001b[39m, \u001b[38;5;241m1\u001b[39m]\n\u001b[0;32m----> 5\u001b[0m \u001b[38;5;28mprint\u001b[39m(\u001b[43mlinear_layer\u001b[49m\u001b[43m(\u001b[49m\u001b[43minputs\u001b[49m\u001b[43m,\u001b[49m\u001b[43m \u001b[49m\u001b[43mweights\u001b[49m\u001b[43m,\u001b[49m\u001b[43m \u001b[49m\u001b[43mbias\u001b[49m\u001b[43m)\u001b[49m)\n",
      "Cell \u001b[0;32mIn[4], line 4\u001b[0m, in \u001b[0;36mlinear_layer\u001b[0;34m(inputs, weights, bias)\u001b[0m\n\u001b[1;32m      3\u001b[0m \u001b[38;5;28;01mdef\u001b[39;00m \u001b[38;5;21mlinear_layer\u001b[39m(inputs, weights, bias):\n\u001b[0;32m----> 4\u001b[0m     \u001b[38;5;28;01mreturn\u001b[39;00m \u001b[43mnp\u001b[49m\u001b[38;5;241;43m.\u001b[39;49m\u001b[43mdot\u001b[49m\u001b[43m(\u001b[49m\u001b[43mweights\u001b[49m\u001b[43m,\u001b[49m\u001b[43m \u001b[49m\u001b[43minputs\u001b[49m\u001b[43m)\u001b[49m \u001b[38;5;241m+\u001b[39m bias\n",
      "File \u001b[0;32m<__array_function__ internals>:200\u001b[0m, in \u001b[0;36mdot\u001b[0;34m(*args, **kwargs)\u001b[0m\n",
      "\u001b[0;31mValueError\u001b[0m: shapes (3,4) and (3,4) not aligned: 4 (dim 1) != 3 (dim 0)"
     ]
    }
   ],
   "source": [
    "inputs = [[1,2,3,4], [5,6,7,8], [9,10,11,12]]\n",
    "weights = [[1,2,3,4], [5,6,7,8], [9,10,11,12]]\n",
    "bias = [1, 1, 1]\n",
    "# (3,4) x (3,4) can't be done because the number of columns in the first matrix is not equal to the number of rows in the second matrix\n",
    "print(linear_layer(inputs, weights, bias)) #this will not work because the shapes of the inputs and weights are not compatible"
   ]
  },
  {
   "cell_type": "code",
   "execution_count": 8,
   "metadata": {},
   "outputs": [
    {
     "name": "stdout",
     "output_type": "stream",
     "text": [
      "[[ 31  71 111]\n",
      " [ 71 175 279]\n",
      " [111 279 447]]\n"
     ]
    }
   ],
   "source": [
    "#need for transposing the weights\n",
    "\n",
    "def linear_layer(inputs, weights, bias):\n",
    "    return np.dot(inputs, np.array(weights).T) + bias\n",
    "\n",
    "inputs = [[1,2,3,4], [5,6,7,8], [9,10,11,12]] #batch of 3 inputs\n",
    "weights = [[1,2,3,4], [5,6,7,8], [9,10,11,12]]\n",
    "\n",
    "print(linear_layer(inputs, weights, bias))"
   ]
  },
  {
   "cell_type": "markdown",
   "metadata": {},
   "source": [
    "# Adding another layer\n"
   ]
  },
  {
   "cell_type": "code",
   "execution_count": 13,
   "metadata": {},
   "outputs": [
    {
     "name": "stdout",
     "output_type": "stream",
     "text": [
      "[[ 3063.   3700.   4340.5]\n",
      " [ 7559.   9132.  10708.5]\n",
      " [12055.  14564.  17076.5]]\n"
     ]
    }
   ],
   "source": [
    "inputs = [[1,2,3,4], [5,6,7,8], [9,10,11,12]] #batch of 3 inputs\n",
    "weights = [[1,2,3,4], [5,6,7,8], [9,10,11,12]]\n",
    "bias = [1, 1, 1]\n",
    "\n",
    "weights2 = [[13,14,15], [16,17,18], [19,20,21]]\n",
    "bias2 = [1, -1, 0.5]\n",
    "\n",
    "layer_output1 = linear_layer(inputs, weights, bias)\n",
    "layer_output2 = linear_layer(layer_output1, weights2, bias2)\n",
    "# print(layer_output1)\n",
    "print(layer_output2)\n",
    "\n"
   ]
  },
  {
   "cell_type": "markdown",
   "metadata": {},
   "source": [
    "# converting to a class object"
   ]
  },
  {
   "cell_type": "code",
   "execution_count": 21,
   "metadata": {},
   "outputs": [],
   "source": [
    "class Dense_layer:\n",
    "    \n",
    "    def __init__(self,n_inputs, n_neurons):\n",
    "        # note that n_inputs becomes the number of rows and n_neurons becomes the number of columns to avoid transposing the weights\n",
    "        self.weights = 0.10 * np.random.randn(n_inputs, n_neurons) # 0.10 is a scaling factor\n",
    "        self.bias = np.zeros((1, n_neurons))\n",
    "    def forward(self, inputs):\n",
    "        self.output = np.dot(inputs, self.weights) + self.bias\n",
    "        "
   ]
  },
  {
   "cell_type": "code",
   "execution_count": 23,
   "metadata": {},
   "outputs": [
    {
     "name": "stdout",
     "output_type": "stream",
     "text": [
      "[[ 0.12848393 -0.11256537]\n",
      " [ 0.39280849 -0.19706153]\n",
      " [ 0.65713306 -0.2815577 ]]\n"
     ]
    }
   ],
   "source": [
    "np.random.seed(0)\n",
    "X = [[1,2,3,4], [5,6,7,8], [9,10,11,12]] #batch of 3 inputs\n",
    "\n",
    "layer1 = Dense_layer(4, 5)\n",
    "layer2 = Dense_layer(5, 2)\n",
    "\n",
    "layer1.forward(X)\n",
    "# print(layer1.output)\n",
    "layer2.forward(layer1.output)\n",
    "print(layer2.output)"
   ]
  },
  {
   "cell_type": "code",
   "execution_count": null,
   "metadata": {},
   "outputs": [],
   "source": []
  }
 ],
 "metadata": {
  "kernelspec": {
   "display_name": "pytorch",
   "language": "python",
   "name": "python3"
  },
  "language_info": {
   "codemirror_mode": {
    "name": "ipython",
    "version": 3
   },
   "file_extension": ".py",
   "mimetype": "text/x-python",
   "name": "python",
   "nbconvert_exporter": "python",
   "pygments_lexer": "ipython3",
   "version": "3.9.16"
  }
 },
 "nbformat": 4,
 "nbformat_minor": 2
}
