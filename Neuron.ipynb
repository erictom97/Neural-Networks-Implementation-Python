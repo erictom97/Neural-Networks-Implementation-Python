{
 "cells": [
  {
   "cell_type": "code",
   "execution_count": 2,
   "metadata": {},
   "outputs": [
    {
     "name": "stdout",
     "output_type": "stream",
     "text": [
      "[15, 33, 51]\n"
     ]
    }
   ],
   "source": [
    "def neuron(inputs, weights, bias):\n",
    "    layer_output = []\n",
    "    for neuron_weights, neuron_bias in zip(weights, bias):\n",
    "        neuron_output = 0\n",
    "        for input, weight in zip(inputs, neuron_weights):\n",
    "            neuron_output += input * weight\n",
    "        neuron_output += neuron_bias\n",
    "        layer_output.append(neuron_output)\n",
    "\n",
    "    return layer_output\n",
    "\n"
   ]
  },
  {
   "cell_type": "markdown",
   "metadata": {},
   "source": [
    " The neuron layer consists of 3 neurons, each receiving 3 inputs. \n",
    "\n",
    "The inputs to the layer are [1, 2, 3]. The weights connecting the inputs to the neurons are as follows:\n",
    "- Neuron 1: [1, 2, 3]\n",
    "- Neuron 2: [4, 5, 6]\n",
    "- Neuron 3: [7, 8, 9]\n",
    "\n",
    "Each neuron also has a bias value of 1.\n",
    "\n",
    "To compute the output of each neuron, the inputs are multiplied by their corresponding weights, and the bias is added. The outputs of the neurons are as follows:\n",
    "- Neuron 1 output: [output value]\n",
    "- Neuron 2 output: [output value]\n",
    "- Neuron 3 output: [output value]\n"
   ]
  },
  {
   "cell_type": "code",
   "execution_count": null,
   "metadata": {},
   "outputs": [],
   "source": [
    "inputs = [1, 2, 3]\n",
    "weights = [[1, 2, 3], [4, 5, 6], [7, 8, 9]]\n",
    "bias = [1, 1, 1]\n",
    "\n",
    "print(neuron(inputs, weights, bias))"
   ]
  }
 ],
 "metadata": {
  "kernelspec": {
   "display_name": "pytorch",
   "language": "python",
   "name": "python3"
  },
  "language_info": {
   "codemirror_mode": {
    "name": "ipython",
    "version": 3
   },
   "file_extension": ".py",
   "mimetype": "text/x-python",
   "name": "python",
   "nbconvert_exporter": "python",
   "pygments_lexer": "ipython3",
   "version": "3.9.16"
  }
 },
 "nbformat": 4,
 "nbformat_minor": 2
}
