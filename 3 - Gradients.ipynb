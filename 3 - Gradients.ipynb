{
 "cells": [
  {
   "cell_type": "markdown",
   "metadata": {},
   "source": [
    "# Gradient\n",
    "The gradient is a ​vector​ composed of all of the partial derivatives of a function, calculated with respect to each input variable.\n",
    "\n",
    "The gradients for the equation `4x^3 + 3y^2 + 2z^6` are:\n",
    "\n",
    "- ∂f/∂x = 12x^2\n",
    "- ∂f/∂y = 6y\n",
    "- ∂f/∂z = 12z^5\n",
    "\n",
    "Therefore, the gradients vector is:\n",
    "\n",
    "∇f = [12x^2, 6y, 12z^5]\n",
    "\n"
   ]
  },
  {
   "cell_type": "markdown",
   "metadata": {},
   "source": [
    "# Chain Rule\n",
    "\n",
    "The chain rule is a fundamental concept in calculus that allows us to compute the derivative of a composition of functions. It is particularly useful when dealing with nested functions or functions that are composed of multiple simpler functions.\n",
    "\n",
    "Let's consider an example to understand the chain rule better. Suppose we have two functions: \n",
    "\n",
    "- `f(x) = x^2` \n",
    "- `g(x) = sin(x)`\n",
    "\n",
    "And we want to find the derivative of the composite function `h(x) = f(g(x))`.\n",
    "\n",
    "To apply the chain rule, we need to follow these steps:\n",
    "\n",
    "1. Differentiate the outer function `f(x)` with respect to its inner function `g(x)`. In this case, `f'(x) = 2x`.\n",
    "\n",
    "2. Differentiate the inner function `g(x)` with respect to `x`. In this case, `g'(x) = cos(x)`.\n",
    "\n",
    "3. Multiply the derivatives obtained in steps 1 and 2. So, `h'(x) = f'(g(x)) * g'(x) = 2x * cos(x)`.\n",
    "\n",
    "By following these steps, we can find the derivative of the composite function using the chain rule."
   ]
  },
  {
   "cell_type": "code",
   "execution_count": null,
   "metadata": {},
   "outputs": [],
   "source": []
  }
 ],
 "metadata": {
  "kernelspec": {
   "display_name": "pytorch",
   "language": "python",
   "name": "python3"
  },
  "language_info": {
   "codemirror_mode": {
    "name": "ipython",
    "version": 3
   },
   "file_extension": ".py",
   "mimetype": "text/x-python",
   "name": "python",
   "nbconvert_exporter": "python",
   "pygments_lexer": "ipython3",
   "version": "3.9.16"
  }
 },
 "nbformat": 4,
 "nbformat_minor": 2
}
